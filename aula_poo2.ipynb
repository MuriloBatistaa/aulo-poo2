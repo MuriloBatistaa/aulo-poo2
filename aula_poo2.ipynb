{
  "nbformat": 4,
  "nbformat_minor": 0,
  "metadata": {
    "colab": {
      "provenance": [],
      "authorship_tag": "ABX9TyOygRZQUGriHsifCqWLKkFG",
      "include_colab_link": true
    },
    "kernelspec": {
      "name": "python3",
      "display_name": "Python 3"
    },
    "language_info": {
      "name": "python"
    }
  },
  "cells": [
    {
      "cell_type": "markdown",
      "metadata": {
        "id": "view-in-github",
        "colab_type": "text"
      },
      "source": [
        "<a href=\"https://colab.research.google.com/github/MuriloBatistaa/aulo-poo2/blob/main/aula_poo2.ipynb\" target=\"_parent\"><img src=\"https://colab.research.google.com/assets/colab-badge.svg\" alt=\"Open In Colab\"/></a>"
      ]
    },
    {
      "cell_type": "code",
      "execution_count": null,
      "metadata": {
        "id": "vYNG6OP7jDZa"
      },
      "outputs": [],
      "source": [
        "F = float (input(\"Digitar o valor em graus fah: \"))\n",
        "C = (5/9) * (F - 32)\n",
        "print(f\"O valor {F}ºF Corresponde ao valor de {C}ºC\")"
      ]
    }
  ]
}